{
  "cells": [
    {
      "cell_type": "code",
      "execution_count": null,
      "metadata": {
        "colab": {
          "base_uri": "https://localhost:8080/"
        },
        "id": "cfQymimRmLv-",
        "outputId": "c4e43715-9ed5-4fe2-f8a3-030dff92237f"
      },
      "outputs": [
        {
          "name": "stderr",
          "output_type": "stream",
          "text": [
            "[nltk_data] Downloading package punkt to /root/nltk_data...\n",
            "[nltk_data]   Unzipping tokenizers/punkt.zip.\n"
          ]
        }
      ],
      "source": [
        "import nltk\n",
        "import numpy as np\n",
        "nltk.download('punkt')\n",
        "from nltk.stem.porter import PorterStemmer\n",
        "import json\n",
        "import torch\n",
        "import torch.nn as nn\n",
        "from torch.utils.data import DataLoader\n",
        "import random"
      ]
    },
    {
      "cell_type": "code",
      "execution_count": null,
      "metadata": {
        "id": "8tDixoI7lvlh"
      },
      "outputs": [],
      "source": [
        "with open('intents.json', 'r') as f:\n",
        "    intents = json.load(f)"
      ]
    },
    {
      "cell_type": "code",
      "execution_count": null,
      "metadata": {
        "id": "dJ2Zr_TZoJzF"
      },
      "outputs": [],
      "source": [
        "def tokenize(sentence):\n",
        "    return nltk.word_tokenize(sentence)"
      ]
    },
    {
      "cell_type": "code",
      "execution_count": null,
      "metadata": {
        "id": "auAxZx_eoYBz"
      },
      "outputs": [],
      "source": [
        "stemmer = PorterStemmer()\n",
        "def stem(word):\n",
        "    return stemmer.stem(word.lower())"
      ]
    },
    {
      "cell_type": "code",
      "execution_count": null,
      "metadata": {
        "id": "Y8mTSn3robyS"
      },
      "outputs": [],
      "source": [
        "def bag_of_words(tokenized_sentence, all_words):\n",
        "    tokenized_sentence = [stem(w) for w in tokenized_sentence]\n",
        "    bag = np.zeros(len(all_words), dtype=np.float32)\n",
        "\n",
        "    for idx, w in enumerate(all_words):\n",
        "        if w in tokenized_sentence:\n",
        "            bag[idx] = 1.0\n",
        "    return bag "
      ]
    },
    {
      "cell_type": "code",
      "execution_count": null,
      "metadata": {
        "id": "Ky-utqJzolyr"
      },
      "outputs": [],
      "source": [
        "class NeuralNet(nn.Module):\n",
        "    def __init__(self, input_size, hidden_size, num_classes):\n",
        "        super(NeuralNet, self).__init__()\n",
        "        self.l1 = nn.Linear(input_size, hidden_size)\n",
        "        self.l2 = nn.Linear(hidden_size, hidden_size)\n",
        "        self.l3 = nn.Linear(hidden_size, num_classes)\n",
        "        self.relu = nn.ReLU()\n",
        "\n",
        "    def forward(self, x):\n",
        "        out = self.l1(x)\n",
        "        out = self.relu(out)\n",
        "        out = self.l2(out)\n",
        "        out = self.relu(out)\n",
        "        out = self.l3(out)\n",
        "        return out"
      ]
    },
    {
      "cell_type": "code",
      "execution_count": null,
      "metadata": {
        "id": "8KZzgkbFotrf"
      },
      "outputs": [],
      "source": [
        "all_words = []\n",
        "tags = []\n",
        "xy = []"
      ]
    },
    {
      "cell_type": "code",
      "execution_count": null,
      "metadata": {
        "id": "uhEytnGto2Dk"
      },
      "outputs": [],
      "source": [
        "for intent in intents['intents']:\n",
        "    tag = intent['tag']\n",
        "    tags.append(tag)\n",
        "    for pattern in intent['patterns']:\n",
        "        w = tokenize(pattern)\n",
        "        all_words.extend(w)\n",
        "        xy.append((w, tag))"
      ]
    },
    {
      "cell_type": "code",
      "execution_count": null,
      "metadata": {
        "id": "j7t3bwJ4o8wO"
      },
      "outputs": [],
      "source": [
        "ignore_words = ['?', '!', '.', ',']\n",
        "all_words = [stem(w) for w in all_words if w not in ignore_words]\n",
        "all_words = sorted(set(all_words))\n",
        "tags = sorted(set(tags))"
      ]
    },
    {
      "cell_type": "code",
      "execution_count": null,
      "metadata": {
        "id": "XbH46ALLpEP6"
      },
      "outputs": [],
      "source": [
        "x_train = []\n",
        "y_train = []"
      ]
    },
    {
      "cell_type": "code",
      "execution_count": null,
      "metadata": {
        "id": "7ia2PIzcpJJd"
      },
      "outputs": [],
      "source": [
        "for (pattern_sentence, tag) in xy:\n",
        "    bag = bag_of_words(pattern_sentence, all_words) \n",
        "    x_train.append(bag)\n",
        "\n",
        "    label = tags.index(tag)\n",
        "    \n",
        "    y_train.append(label)"
      ]
    },
    {
      "cell_type": "code",
      "execution_count": null,
      "metadata": {
        "id": "0vxongoppPyt"
      },
      "outputs": [],
      "source": [
        "x_train = np.array(x_train)\n",
        "y_train = np.array(y_train)"
      ]
    },
    {
      "cell_type": "code",
      "execution_count": null,
      "metadata": {
        "id": "vn2cmlS1pckN"
      },
      "outputs": [],
      "source": [
        "class ChatDataset:\n",
        "    def __init__(self):\n",
        "        self.n_samples = len(x_train)\n",
        "        self.x_data = x_train\n",
        "        self.y_data = y_train\n",
        "\n",
        "    def __getitem__(self, index):\n",
        "        return self.x_data[index], self.y_data[index]\n",
        "\n",
        "    def __len__(self):\n",
        "        return self.n_samples"
      ]
    },
    {
      "cell_type": "code",
      "execution_count": null,
      "metadata": {
        "id": "dKsCaTWoplWf"
      },
      "outputs": [],
      "source": [
        "batch_size = 8\n",
        "hidden_size = 8\n",
        "output_size = len(tags)\n",
        "input_size = len(x_train[0])\n",
        "learning_rate = 0.001\n",
        "num_epochs = 1000"
      ]
    },
    {
      "cell_type": "code",
      "execution_count": null,
      "metadata": {
        "colab": {
          "base_uri": "https://localhost:8080/"
        },
        "id": "ZAGV2ZmgpqKY",
        "outputId": "1e8e8f22-29e8-4005-d69e-9693e7a817f4"
      },
      "outputs": [
        {
          "name": "stdout",
          "output_type": "stream",
          "text": [
            "54 54\n",
            "8 ['coffee_price', 'delivery', 'goodbye', 'greetings', 'items', 'payments', 'tea_price', 'thanks']\n"
          ]
        }
      ],
      "source": [
        "print(input_size, len(all_words))\n",
        "print(output_size, tags)"
      ]
    },
    {
      "cell_type": "code",
      "execution_count": null,
      "metadata": {
        "id": "P6y-D55wpyCC"
      },
      "outputs": [],
      "source": [
        "dataset = ChatDataset()\n",
        "train_loader = DataLoader(dataset=dataset, batch_size=batch_size, shuffle=True, num_workers=2)"
      ]
    },
    {
      "cell_type": "code",
      "execution_count": null,
      "metadata": {
        "id": "SbbSh5nopy93"
      },
      "outputs": [],
      "source": [
        "device = torch.device('cuda' if torch.cuda.is_available() else 'cpu')\n",
        "model = NeuralNet(input_size, hidden_size, output_size)"
      ]
    },
    {
      "cell_type": "code",
      "execution_count": null,
      "metadata": {
        "id": "ytbQeWZ_p68b"
      },
      "outputs": [],
      "source": [
        "criterion = nn.CrossEntropyLoss()\n",
        "optimizer = torch.optim.Adam(model.parameters(), lr=learning_rate)"
      ]
    },
    {
      "cell_type": "code",
      "execution_count": null,
      "metadata": {
        "id": "H1hnL8ZoqEMC"
      },
      "outputs": [],
      "source": [
        "for epoch in range(num_epochs):\n",
        "    for (words, labels) in train_loader:\n",
        "        words = words.to(device)\n",
        "        labels = labels.to(device)\n",
        "\n",
        "        outputs = model(words)\n",
        "        loss = criterion(outputs, labels)\n",
        "\n",
        "        optimizer.zero_grad()\n",
        "        loss.backward()\n",
        "        optimizer.step()\n",
        "\n",
        "    if (epoch + 1) % 1 == 0:\n",
        "        print(f'epoch {epoch + 1}/{num_epochs},loss = {loss.item():.4f}')\n",
        "    print(f'final loss, loss = {loss.item():.4f}')"
      ]
    },
    {
      "cell_type": "code",
      "execution_count": null,
      "metadata": {
        "id": "gyna0qdhqFSR"
      },
      "outputs": [],
      "source": [
        "data = {\n",
        "    \"model_state\": model.state_dict(),\n",
        "    \"input_size\": input_size,\n",
        "    \"output_size\": output_size,\n",
        "    \"hidden_size\": hidden_size,\n",
        "    \"all_words\": all_words,\n",
        "    \"tags\": tags\n",
        "}"
      ]
    },
    {
      "cell_type": "code",
      "execution_count": null,
      "metadata": {
        "colab": {
          "base_uri": "https://localhost:8080/"
        },
        "id": "YF1uX3ZjqLVI",
        "outputId": "320b43c2-8337-457d-f037-1fadbab2fdad"
      },
      "outputs": [
        {
          "name": "stdout",
          "output_type": "stream",
          "text": [
            "training complete. file saved to data.pth\n"
          ]
        }
      ],
      "source": [
        "FILE = \"data.pth\"\n",
        "torch.save(data, FILE)\n",
        "print(f'training complete. file saved to {FILE}')"
      ]
    },
    {
      "cell_type": "code",
      "execution_count": null,
      "metadata": {
        "colab": {
          "base_uri": "https://localhost:8080/"
        },
        "id": "Kumrspjoreku",
        "outputId": "1ece6003-2bf2-4ff3-e163-4de0a43d80bc"
      },
      "outputs": [
        {
          "data": {
            "text/plain": [
              "NeuralNet(\n",
              "  (l1): Linear(in_features=54, out_features=8, bias=True)\n",
              "  (l2): Linear(in_features=8, out_features=8, bias=True)\n",
              "  (l3): Linear(in_features=8, out_features=8, bias=True)\n",
              "  (relu): ReLU()\n",
              ")"
            ]
          },
          "execution_count": 22,
          "metadata": {},
          "output_type": "execute_result"
        }
      ],
      "source": [
        "FILE = \"data.pth\"\n",
        "data = torch.load(FILE)\n",
        "\n",
        "input_size = data[\"input_size\"]\n",
        "hidden_size = data[\"hidden_size\"]\n",
        "output_size = data[\"output_size\"]\n",
        "all_words = data[\"all_words\"]\n",
        "tags = data[\"tags\"]\n",
        "model_state = data[\"model_state\"]\n",
        "model = NeuralNet(input_size, hidden_size, output_size)\n",
        "model.load_state_dict(model_state)\n",
        "model.eval()"
      ]
    },
    {
      "cell_type": "code",
      "execution_count": null,
      "metadata": {
        "colab": {
          "background_save": true
        },
        "id": "26uyR9HprqKf"
      },
      "outputs": [],
      "source": [
        "bot_name = \"Eva\"\n",
        "print(\"Let's chat! type 'quit' to exit\")\n",
        "while True:\n",
        "    sentence = input('You: ')\n",
        "    if sentence == 'quit':\n",
        "        break\n",
        "    sentence = tokenize(sentence)\n",
        "    x = bag_of_words(sentence, all_words)\n",
        "    x = x.reshape(1, x.shape[0])\n",
        "    x = torch.from_numpy(x)\n",
        "\n",
        "    output = model(x)\n",
        "    _, predicted = torch.max(output, dim=1)\n",
        "    tag = tags[predicted.item()]\n",
        "\n",
        "    probs = torch.softmax(output, dim=1)\n",
        "    prob = probs[0][predicted.item()]\n",
        "\n",
        "    if prob.item() > 0.75:\n",
        "        for intent in intents[\"intents\"]:\n",
        "            if tag == intent[\"tag\"]:\n",
        "                print(f\"{bot_name}: {random.choice(intent['responses'])}\")\n",
        "    else:\n",
        "        print(f\"{bot_name}: I do not understand...\")\n",
        "    \n",
        "    if tag == \"goodbye\":\n",
        "      break\n",
        "      \n",
        "    \n"
      ]
    }
  ],
  "metadata": {
    "colab": {
      "collapsed_sections": [],
      "provenance": []
    },
    "kernelspec": {
      "display_name": "Python 3",
      "name": "python3"
    },
    "language_info": {
      "name": "python"
    }
  },
  "nbformat": 4,
  "nbformat_minor": 0
}